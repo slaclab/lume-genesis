{
 "cells": [
  {
   "cell_type": "markdown",
   "id": "04f52caa-20f0-4f25-8548-75f181858c90",
   "metadata": {},
   "source": [
    "# Genesis4 Resistive Wall Wakefield\n",
    "\n",
    "Parameters from SLAC-PUB-10707\n",
    "\n",
    "Note that we use a Gaussian here instead of a double-horn distribution.\n",
    "\n",
    "For comparison, we choose a copper pipe with a 2.5 mm radius, and track for 1 m.\n",
    "\n",
    "### Table I: Selected Parameters in LCLS Undulator\n",
    "\n",
    "| Parameter              | Symbol | Value     | Unit   |\n",
    "|------------------------|--------|-----------|--------|\n",
    "| Beam energy            | E      | 14        | GeV    |\n",
    "| Bunch charge           | eN     | 1         | nC     |\n",
    "| RMS bunch length       | σz     | 20        | µm     |\n",
    "| Beam pipe radius       | a      | 2.5       | mm     |\n",
    "| Beam pipe length       | L      | 130       | m      |\n"
   ]
  },
  {
   "cell_type": "code",
   "execution_count": null,
   "id": "f1b6781e-bf6a-401d-b71b-768d9c6d29f3",
   "metadata": {},
   "outputs": [],
   "source": [
    "# import os\n",
    "from math import pi, sqrt\n",
    "\n",
    "import matplotlib.pyplot as plt\n",
    "from scipy.constants import c\n",
    "\n",
    "import genesis.version4 as g4\n",
    "\n",
    "from pmd_beamphysics.units import mec2"
   ]
  },
  {
   "cell_type": "code",
   "execution_count": null,
   "id": "3ea5bf7e-6209-4753-98ff-786c1ec7f1ca",
   "metadata": {},
   "outputs": [],
   "source": [
    "# Parameters\n",
    "RADIUS = 2.5e-3  # m\n",
    "ENERGY0 = 14e9  # eV\n",
    "SIGMA_Z = 20e-6  # m\n",
    "BUNCH_CHARGE = 1e-9  # C\n",
    "\n",
    "\n",
    "SIGMA_T = SIGMA_Z / c\n",
    "PEAK_CURRENT = BUNCH_CHARGE / (sqrt(2 * pi) * SIGMA_T)\n",
    "SLEN = 10 * SIGMA_Z\n",
    "S0 = 5 * SIGMA_Z\n",
    "SIGMA_T, SIGMA_Z, SLEN"
   ]
  },
  {
   "cell_type": "code",
   "execution_count": null,
   "id": "f851925c-f7f8-47ae-ad6d-054496954682",
   "metadata": {},
   "outputs": [],
   "source": [
    "# Lattice\n",
    "D1 = g4.Drift(L=1)\n",
    "lattice = g4.Lattice(elements={\"D1\": D1, \"LAT\": g4.Line(elements=[D1])})"
   ]
  },
  {
   "cell_type": "code",
   "execution_count": null,
   "id": "7f164427-9c64-48e7-b4c5-086d7ef1ac0b",
   "metadata": {},
   "outputs": [],
   "source": [
    "# Main input\n",
    "gamma0 = ENERGY0 / mec2\n",
    "\n",
    "main = g4.MainInput(\n",
    "    namelists=[\n",
    "        g4.Setup(\n",
    "            rootname=\"SLAC-PUB-10707\",\n",
    "            beamline=\"LAT\",\n",
    "            gamma0=gamma0,\n",
    "            lambda0=1e-7,  # arbitrary for this purpose\n",
    "            # delz=0.026,\n",
    "            seed=123456,\n",
    "            npart=128,\n",
    "        ),\n",
    "        g4.Time(slen=SLEN),\n",
    "        g4.ProfileGauss(\n",
    "            label=\"beamcurrent\",\n",
    "            c0=PEAK_CURRENT,\n",
    "            s0=S0,\n",
    "            sig=SIGMA_Z,\n",
    "        ),\n",
    "        g4.Beam(\n",
    "            gamma=gamma0,\n",
    "            delgam=0.0001,  # very small to see the wake\n",
    "            current=\"beamcurrent\",\n",
    "        ),\n",
    "        g4.Wake(\n",
    "            radius=2.5e-3,\n",
    "            material=\"CU\",\n",
    "            roundpipe=True,  # default\n",
    "            # conductivity=6.5e7,    # From SLAC-PUB-10707\n",
    "            # relaxation=27e-15 * c, # From SLAC-PUB-10707\n",
    "        ),\n",
    "        g4.Write(beam=\"beginning\"),\n",
    "        g4.Track(zstop=1),\n",
    "        g4.Write(beam=\"end\"),\n",
    "    ],\n",
    ")\n",
    "\n",
    "G = g4.Genesis4(main, lattice, verbose=False)\n",
    "output = G.run()"
   ]
  },
  {
   "cell_type": "code",
   "execution_count": null,
   "id": "f2904180-8a84-43fd-be85-3e4955deb702",
   "metadata": {},
   "outputs": [],
   "source": [
    "!cat {G.path}/genesis4.in"
   ]
  },
  {
   "cell_type": "code",
   "execution_count": null,
   "id": "5f5d91dd-b92e-4d00-a2d1-404f51557c2d",
   "metadata": {},
   "outputs": [],
   "source": [
    "output.load_particles()\n",
    "P0 = output.particles[\"beginning\"]\n",
    "P1 = output.particles[\"end\"]\n",
    "P1.plot(\"delta_z/c\", \"energy\")\n",
    "P1"
   ]
  },
  {
   "cell_type": "code",
   "execution_count": null,
   "id": "2095fa4d-5a98-456c-9151-e32dec54ffd3",
   "metadata": {},
   "outputs": [],
   "source": [
    "# Mean energy loss\n",
    "e1 = P1[\"mean_energy\"]\n",
    "e0 = P0[\"mean_energy\"]\n",
    "e1 - e0  # energy change in eV"
   ]
  },
  {
   "cell_type": "code",
   "execution_count": null,
   "id": "b0807dd8-2393-46e5-a350-44480b738ff8",
   "metadata": {},
   "outputs": [],
   "source": [
    "plt.scatter(P1.z / c * 1e15, P1.energy - ENERGY0, marker=\".\")\n",
    "plt.xlabel(r\"$z/c$ (fs)\")\n",
    "plt.ylabel(r\"$\\Delta E$ (eV)\")"
   ]
  }
 ],
 "metadata": {
  "kernelspec": {
   "display_name": "Python 3 (ipykernel)",
   "language": "python",
   "name": "python3"
  },
  "language_info": {
   "codemirror_mode": {
    "name": "ipython",
    "version": 3
   },
   "file_extension": ".py",
   "mimetype": "text/x-python",
   "name": "python",
   "nbconvert_exporter": "python",
   "pygments_lexer": "ipython3",
   "version": "3.13.5"
  }
 },
 "nbformat": 4,
 "nbformat_minor": 5
}
