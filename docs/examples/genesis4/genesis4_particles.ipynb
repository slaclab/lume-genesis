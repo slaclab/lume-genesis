{
 "cells": [
  {
   "cell_type": "markdown",
   "id": "d8dd4f41-6f08-4f13-90f1-da494663a3f2",
   "metadata": {},
   "source": [
    "# Genesis4 Particles\n",
    "\n",
    "This shows examples of the various ways to input particle data into Genesis4."
   ]
  },
  {
   "cell_type": "code",
   "execution_count": null,
   "id": "1f0bff4d-5a9d-47bc-8049-dc84f90fb881",
   "metadata": {},
   "outputs": [],
   "source": [
    "import logging\n",
    "import os\n",
    "from math import pi, sqrt\n",
    "\n",
    "import matplotlib.pyplot as plt\n",
    "import numpy as np\n",
    "from scipy.constants import c\n",
    "\n",
    "import genesis.version4 as g4\n",
    "\n",
    "logging.basicConfig()\n",
    "# logging.getLogger(\"genesis\").setLevel(\"DEBUG\")\n",
    "\n",
    "%config InlineBackend.figure_format = 'retina'"
   ]
  },
  {
   "cell_type": "markdown",
   "id": "90591979-8818-4d9c-8106-6542cb192bab",
   "metadata": {},
   "source": [
    "# Lattice\n",
    "\n",
    "Create a simple drift lattice"
   ]
  },
  {
   "cell_type": "code",
   "execution_count": null,
   "id": "44bd8781-f5a8-4f22-8f2d-cd9aacdbe3ff",
   "metadata": {},
   "outputs": [],
   "source": [
    "D1 = g4.Drift(L=1)\n",
    "lattice = g4.Lattice(elements={\"D1\": D1, \"LAT\": g4.Line(elements=[D1])})"
   ]
  },
  {
   "cell_type": "markdown",
   "id": "20ff3886-fc6e-48b6-bcae-d76f7f264e04",
   "metadata": {},
   "source": [
    "# `profile_gauss`\n",
    "\n",
    "This profile will make a Gaussian distribition. Here we do some calculations to make the correct bunch length for a given bunch charge to provide a peak current."
   ]
  },
  {
   "cell_type": "code",
   "execution_count": null,
   "id": "2855fc7f-2e10-4524-ab84-907ae67e3c95",
   "metadata": {
    "tags": []
   },
   "outputs": [],
   "source": [
    "PEAK_CURRENT = 1000\n",
    "BUNCH_CHARGE = 100e-12\n",
    "SIGMA_T = BUNCH_CHARGE / (sqrt(2 * pi) * PEAK_CURRENT)\n",
    "SIGMA_Z = SIGMA_T * c\n",
    "SLEN = 6 * SIGMA_Z\n",
    "S0 = 3 * SIGMA_Z\n",
    "SIGMA_T, SIGMA_Z, SLEN"
   ]
  },
  {
   "cell_type": "code",
   "execution_count": null,
   "id": "3fcb5886-90e0-4cb4-8ca1-957ee2ba659c",
   "metadata": {
    "tags": []
   },
   "outputs": [],
   "source": [
    "main = g4.MainInput(\n",
    "    namelists=[\n",
    "        g4.Setup(\n",
    "            rootname=\"drift_test\",\n",
    "            # lattice=\"LATFILE\",\n",
    "            beamline=\"LAT\",\n",
    "            gamma0=1000,\n",
    "            lambda0=1e-07,\n",
    "            delz=0.026,\n",
    "            seed=123456,\n",
    "            npart=128,\n",
    "        ),\n",
    "        g4.Time(slen=SLEN),\n",
    "        g4.ProfileGauss(\n",
    "            label=\"beamcurrent\",\n",
    "            c0=PEAK_CURRENT,\n",
    "            s0=S0,\n",
    "            sig=SIGMA_Z,\n",
    "        ),\n",
    "        g4.Beam(\n",
    "            gamma=1000,\n",
    "            delgam=1,\n",
    "            current=\"beamcurrent\",\n",
    "        ),\n",
    "        g4.Track(zstop=1),\n",
    "        g4.Write(beam=\"end\"),\n",
    "    ],\n",
    ")\n",
    "\n",
    "G = g4.Genesis4(main, lattice, verbose=True)\n",
    "output = G.run()"
   ]
  },
  {
   "cell_type": "code",
   "execution_count": null,
   "id": "73c96bd6-8cd6-4f7e-9cea-16a9dc56367f",
   "metadata": {},
   "outputs": [],
   "source": [
    "G.input.main.setup.delz"
   ]
  },
  {
   "cell_type": "code",
   "execution_count": null,
   "id": "395939f8-42a3-4507-a1f0-c9a8e7a851a7",
   "metadata": {},
   "outputs": [],
   "source": [
    "print(G.output.run.output_log)"
   ]
  },
  {
   "cell_type": "code",
   "execution_count": null,
   "id": "22785734-a4c6-49df-bd2f-d802d39a85d5",
   "metadata": {
    "tags": []
   },
   "outputs": [],
   "source": [
    "output.load_particles()\n",
    "P1 = output.particles[\"end\"]\n",
    "P1.drift_to_z()\n",
    "P1.plot(\"t\", \"energy\")\n",
    "P1"
   ]
  },
  {
   "cell_type": "code",
   "execution_count": null,
   "id": "140f23a8-787b-4d70-af75-5f33c270fbb9",
   "metadata": {},
   "outputs": [],
   "source": [
    "output.particles[\"end\"]"
   ]
  },
  {
   "cell_type": "markdown",
   "id": "675f5878-d184-40a0-aeb1-8d2f0585da0e",
   "metadata": {},
   "source": [
    "Check the charge"
   ]
  },
  {
   "cell_type": "code",
   "execution_count": null,
   "id": "57b19c8c-2c37-48ee-a316-6aed524775f2",
   "metadata": {
    "tags": []
   },
   "outputs": [],
   "source": [
    "P1.charge"
   ]
  },
  {
   "cell_type": "markdown",
   "id": "4f6b2b49-5315-430b-b6b2-628105f6db87",
   "metadata": {
    "tags": []
   },
   "source": [
    "# `profile_file`"
   ]
  },
  {
   "cell_type": "markdown",
   "id": "476dd779-bcff-42bc-9f1b-f532c8615e1a",
   "metadata": {
    "tags": []
   },
   "source": [
    "LUME-Genesis automatically makes an HDF5 file with `ProfileArray`."
   ]
  },
  {
   "cell_type": "code",
   "execution_count": null,
   "id": "a6c00c4f-d26f-4a31-ad7e-6536349df976",
   "metadata": {
    "tags": []
   },
   "outputs": [],
   "source": [
    "NPTS = 100\n",
    "SLEN = 100e-6\n",
    "S = np.linspace(0, SLEN, NPTS)\n",
    "CURRENT = np.linspace(1, 1000.0, NPTS)\n",
    "plt.plot(S, CURRENT)"
   ]
  },
  {
   "cell_type": "code",
   "execution_count": null,
   "id": "0b64b1b0-334f-41b4-ae2a-ae7eff572e24",
   "metadata": {
    "tags": []
   },
   "outputs": [],
   "source": [
    "main = g4.MainInput(\n",
    "    namelists=[\n",
    "        g4.Setup(\n",
    "            rootname=\"drift_test\",\n",
    "            # lattice=lattice,\n",
    "            beamline=\"LAT\",\n",
    "            gamma0=1000,\n",
    "            lambda0=1e-07,\n",
    "            delz=0.026,\n",
    "            seed=123456,\n",
    "            npart=128,\n",
    "        ),\n",
    "        g4.Time(slen=SLEN),\n",
    "        g4.ProfileArray(label=\"beamcurrent\", xdata=S, ydata=CURRENT),\n",
    "        g4.Beam(\n",
    "            gamma=1000,\n",
    "            delgam=1,\n",
    "            current=\"beamcurrent\",\n",
    "            ex=1e-06,\n",
    "            ey=1e-06,\n",
    "            betax=7.910909406464387,\n",
    "            betay=16.881178621346898,\n",
    "            alphax=-0.7393217413918415,\n",
    "            alphay=1.3870723536888105,\n",
    "        ),\n",
    "        g4.Track(zstop=1),\n",
    "        g4.Write(beam=\"end\"),\n",
    "    ]\n",
    ")\n",
    "\n",
    "G = g4.Genesis4(main, lattice, verbose=True)\n",
    "output = G.run()"
   ]
  },
  {
   "cell_type": "markdown",
   "id": "b90c9a5c-b707-47be-be30-c9a4b1dcccf6",
   "metadata": {},
   "source": [
    "### Inspect the input and output"
   ]
  },
  {
   "cell_type": "code",
   "execution_count": null,
   "id": "503fddfa-cb1c-40be-999e-ed647c997c17",
   "metadata": {},
   "outputs": [],
   "source": [
    "print(main.to_genesis())"
   ]
  },
  {
   "cell_type": "code",
   "execution_count": null,
   "id": "e6ccda1d-595a-4799-a43d-e731ec99f6ec",
   "metadata": {},
   "outputs": [],
   "source": [
    "print(lattice.to_genesis())"
   ]
  },
  {
   "cell_type": "code",
   "execution_count": null,
   "id": "2fbf74fb-1dee-4cce-80ec-57c22e4fb43a",
   "metadata": {},
   "outputs": [],
   "source": [
    "print(output.run.output_log)"
   ]
  },
  {
   "cell_type": "code",
   "execution_count": null,
   "id": "bc7d8caf-e6d9-4b77-b97c-b3086e1ff5ea",
   "metadata": {},
   "outputs": [],
   "source": [
    "output.meta"
   ]
  },
  {
   "cell_type": "code",
   "execution_count": null,
   "id": "ff1dd7b4-66b1-40fd-8dc3-7a9ddfdc1dfc",
   "metadata": {
    "tags": []
   },
   "outputs": [],
   "source": [
    "output.load_particles()\n",
    "P1 = output.particles[\"end\"]\n",
    "P1.drift_to_z()\n",
    "P1.plot(\"t\", \"energy\")\n",
    "P1"
   ]
  },
  {
   "cell_type": "markdown",
   "id": "f165410a-b4aa-4d1a-8c84-da30e5aba218",
   "metadata": {},
   "source": [
    "Resample particles for equal weights. This is neccessary when reading from a distribution file."
   ]
  },
  {
   "cell_type": "code",
   "execution_count": null,
   "id": "3da2f7a0-b630-4fe6-8038-85d5c3ea5794",
   "metadata": {
    "tags": []
   },
   "outputs": [],
   "source": [
    "NSAMPLE = len(P1)\n",
    "P1r = P1.resample(NSAMPLE)\n",
    "P1r.plot(\"t\", \"energy\")\n",
    "P1r"
   ]
  },
  {
   "cell_type": "markdown",
   "id": "f10e501a-6658-4e91-a189-f4832956bae4",
   "metadata": {
    "tags": []
   },
   "source": [
    "Make a more interesting distribution from this:"
   ]
  },
  {
   "cell_type": "code",
   "execution_count": null,
   "id": "f1da0c9e-429c-432f-9bae-23eb60a1ca41",
   "metadata": {
    "tags": []
   },
   "outputs": [],
   "source": [
    "P1r.pz[0 : len(P1) // 2] *= 1.1\n",
    "P1r.plot(\"t\", \"energy\")"
   ]
  },
  {
   "cell_type": "markdown",
   "id": "3f7e0c97-5bba-4c47-8cf6-11ca231e80cc",
   "metadata": {},
   "source": [
    "ParticleGroup can write to a file for Genesis4.\n",
    "\n",
    "**Please note** that LUME-Genesis will write the distribution for you prior to running Genesis4, so this step is not necessary."
   ]
  },
  {
   "cell_type": "code",
   "execution_count": null,
   "id": "cc3d2e28-67d2-49df-9eb1-05c050a88231",
   "metadata": {
    "tags": []
   },
   "outputs": [],
   "source": [
    "DIST_FILE = \"genesis4_distribution.h5\"\n",
    "P1r.write_genesis4_distribution(DIST_FILE, verbose=True)"
   ]
  },
  {
   "cell_type": "markdown",
   "id": "54f7db71-316b-4908-ab5d-506d9fb9ebac",
   "metadata": {},
   "source": [
    "# ParticleGroup\n",
    "\n",
    "Genesis4Input directly supports OpenPMD-beamphysics `ParticleGroup` instances.\n",
    "When using the `MainInput.initial_particles` property setter, LUME-Genesis will ensure the namelist is added before the first \"Track\" or \"Write\" namelist in the main input.\n",
    "\n",
    "It will implicitly set the `import_distribution` charge and the `time.slen` to the calculated time window from the particles, equivalent to the following:\n",
    "```python\n",
    "    import_distribution.charge = particles.charge\n",
    "    main.time.slen = max(\n",
    "        c_light * np.ptp(particles.t),\n",
    "        np.ptp(particles.z),\n",
    "    )\n",
    "```\n",
    "\n",
    "Additionally, the appropriate input file for Genesis4 will be written automatically when Genesis4 is executed."
   ]
  },
  {
   "cell_type": "code",
   "execution_count": null,
   "id": "765e2bc9-6d97-4608-b81d-527c5455bc09",
   "metadata": {
    "tags": []
   },
   "outputs": [],
   "source": [
    "main = g4.MainInput(\n",
    "    namelists=[\n",
    "        g4.Setup(\n",
    "            rootname=\"drift_test\",\n",
    "            # lattice=full_path(LATFILE),\n",
    "            beamline=\"LAT\",\n",
    "            gamma0=1000,\n",
    "            lambda0=1e-07,\n",
    "            delz=0.026,\n",
    "            seed=123456,\n",
    "            npart=512,\n",
    "        ),\n",
    "        g4.Time(slen=0),  # This will change slen to span all particles\n",
    "        g4.Track(zstop=1),\n",
    "        g4.Write(beam=\"end\"),\n",
    "    ],\n",
    ")\n",
    "\n",
    "G1 = g4.Genesis4(main, lattice, verbose=True, initial_particles=P1r)\n",
    "output = G1.run()"
   ]
  },
  {
   "cell_type": "code",
   "execution_count": null,
   "id": "0de631e7-eec8-482c-9e80-816297afb64f",
   "metadata": {},
   "outputs": [],
   "source": [
    "output.run"
   ]
  },
  {
   "cell_type": "code",
   "execution_count": null,
   "id": "e40160c5-e964-4765-80b3-06a7a1e1d50b",
   "metadata": {
    "tags": []
   },
   "outputs": [],
   "source": [
    "output.load_particles()\n",
    "P2 = output.particles[\"end\"]\n",
    "P2.z"
   ]
  },
  {
   "cell_type": "code",
   "execution_count": null,
   "id": "e28f870e-d22c-491d-b49a-e053bbceb931",
   "metadata": {
    "tags": []
   },
   "outputs": [],
   "source": [
    "P2.drift_to_z()\n",
    "P2.plot(\"t\", \"energy\")\n",
    "P2"
   ]
  },
  {
   "cell_type": "code",
   "execution_count": null,
   "id": "926b46c0-658a-42b8-8473-19e6758c4915",
   "metadata": {
    "tags": []
   },
   "outputs": [],
   "source": [
    "P2.plot(\"weight\", bins=100)"
   ]
  },
  {
   "cell_type": "markdown",
   "id": "5f34bd2a-0494-411e-8e2d-4150f56ea7ba",
   "metadata": {},
   "source": [
    "Notice that `importdistribution` is filled in:"
   ]
  },
  {
   "cell_type": "code",
   "execution_count": null,
   "id": "65ca2588-ea34-4d9e-a13a-84c21a12c8ca",
   "metadata": {
    "tags": []
   },
   "outputs": [],
   "source": [
    "print(G1.input.to_genesis())"
   ]
  },
  {
   "cell_type": "markdown",
   "id": "33f96052-36ff-4b39-8be5-beb7dfb8ba18",
   "metadata": {},
   "source": [
    "# Cleanup"
   ]
  },
  {
   "cell_type": "code",
   "execution_count": null,
   "id": "417a70c2-2494-4883-a808-fd255b7becef",
   "metadata": {},
   "outputs": [],
   "source": [
    "G1.input.initial_particles"
   ]
  },
  {
   "cell_type": "code",
   "execution_count": null,
   "id": "46a0ddab-03ea-4f67-ae1c-c4a47f6fd442",
   "metadata": {},
   "outputs": [],
   "source": [
    "os.remove(DIST_FILE)"
   ]
  }
 ],
 "metadata": {
  "kernelspec": {
   "display_name": "Python 3 (ipykernel)",
   "language": "python",
   "name": "python3"
  },
  "language_info": {
   "codemirror_mode": {
    "name": "ipython",
    "version": 3
   },
   "file_extension": ".py",
   "mimetype": "text/x-python",
   "name": "python",
   "nbconvert_exporter": "python",
   "pygments_lexer": "ipython3",
   "version": "3.13.0"
  }
 },
 "nbformat": 4,
 "nbformat_minor": 5
}
