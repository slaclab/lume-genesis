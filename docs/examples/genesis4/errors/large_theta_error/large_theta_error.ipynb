{
 "cells": [
  {
   "cell_type": "markdown",
   "id": "8d569d82-3861-4746-a52e-d0464cc75fc1",
   "metadata": {},
   "source": [
    "# Error with large thetas\n",
    "\n",
    "Initial particle thetas in far-tail slices generate very large theta positions. This seems like an error."
   ]
  },
  {
   "cell_type": "code",
   "execution_count": null,
   "id": "4b567b7c-6911-4a1d-bad2-1012c5acf630",
   "metadata": {},
   "outputs": [],
   "source": [
    "import matplotlib.pyplot as plt\n",
    "import numpy as np\n",
    "from genesis import Genesis4\n",
    "import h5py"
   ]
  },
  {
   "cell_type": "code",
   "execution_count": null,
   "id": "3ba9c784-6048-446b-9910-48effad1ca45",
   "metadata": {},
   "outputs": [],
   "source": [
    "G = Genesis4(\"genesis4.in\")"
   ]
  },
  {
   "cell_type": "code",
   "execution_count": null,
   "id": "2c38c67b-15cd-4a85-b939-3b292a166ab0",
   "metadata": {},
   "outputs": [],
   "source": [
    "G.run();"
   ]
  },
  {
   "cell_type": "code",
   "execution_count": null,
   "id": "f8003ea6-a4b7-4770-9453-bd3d9f1a220f",
   "metadata": {},
   "outputs": [],
   "source": [
    "G.output.load_particles()"
   ]
  },
  {
   "cell_type": "code",
   "execution_count": null,
   "id": "03031fe1-7ccd-47d5-bbb5-94f6a188734b",
   "metadata": {},
   "outputs": [],
   "source": [
    "P0 = G.output.particles[\"beg\"]\n",
    "P1 = G.output.particles[\"end\"]\n",
    "P0.plot(\"z\", \"energy\")\n",
    "P1.plot(\"z\", \"energy\")"
   ]
  },
  {
   "cell_type": "code",
   "execution_count": null,
   "id": "205b1d26-159e-4031-82c8-e8cdcaf8e66d",
   "metadata": {},
   "outputs": [],
   "source": [
    "def plot_thetas(parfile):\n",
    "    thetamax = []\n",
    "    thetamin = []\n",
    "    current = []\n",
    "    with h5py.File(parfile) as h5:\n",
    "        for g in h5:\n",
    "            if not g.startswith(\"slice0\"):\n",
    "                continue\n",
    "\n",
    "            theta = h5[g][\"theta\"][:]\n",
    "            thetamax.append(theta.max())\n",
    "            thetamin.append(theta.min())\n",
    "            current.append(h5[g][\"current\"][0])\n",
    "\n",
    "    thetamax = np.array(thetamax)\n",
    "    thetamin = np.array(thetamin)\n",
    "\n",
    "    fig, ax = plt.subplots()\n",
    "    ax.plot(thetamax / (2 * np.pi), label=\"max θ\")\n",
    "    ax.plot(thetamin / (2 * np.pi), label=\"min θ\")\n",
    "    ax.legend()\n",
    "\n",
    "    ax2 = ax.twinx()\n",
    "    ax2.plot(current, color=\"black\", label=\"current\")\n",
    "    ax2.set_ylim(0, None)\n",
    "    ax2.set_ylabel(\"current (A)\")\n",
    "    ax.set_xlabel(\"slice\")\n",
    "    ax.set_ylabel(\"theta (2π)\")\n",
    "\n",
    "\n",
    "plot_thetas(G.path + \"/beg.par.h5\")"
   ]
  }
 ],
 "metadata": {
  "kernelspec": {
   "display_name": "Python 3 (ipykernel)",
   "language": "python",
   "name": "python3"
  },
  "language_info": {
   "codemirror_mode": {
    "name": "ipython",
    "version": 3
   },
   "file_extension": ".py",
   "mimetype": "text/x-python",
   "name": "python",
   "nbconvert_exporter": "python",
   "pygments_lexer": "ipython3",
   "version": "3.13.3"
  }
 },
 "nbformat": 4,
 "nbformat_minor": 5
}
